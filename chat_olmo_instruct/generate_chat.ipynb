{
 "cells": [
  {
   "cell_type": "code",
   "execution_count": 3,
   "id": "d1afe1f1-5845-4817-a003-80e090b4c366",
   "metadata": {},
   "outputs": [],
   "source": [
    "import torch \n",
    "import hf_olmo\n",
    "from transformers import DataCollatorForLanguageModeling, TrainingArguments, \\\n",
    "            Trainer, AutoTokenizer, AutoModelForCausalLM\n",
    "import mlflow \n",
    "import json"
   ]
  },
  {
   "cell_type": "code",
   "execution_count": 4,
   "id": "8a495763-b896-4593-9a09-62ecec9c19b0",
   "metadata": {},
   "outputs": [
    {
     "data": {
      "text/plain": [
       "2"
      ]
     },
     "execution_count": 4,
     "metadata": {},
     "output_type": "execute_result"
    }
   ],
   "source": [
    "model_ckpt = \"allenai/OLMo-1B\"\n",
    "tokenizer = AutoTokenizer.from_pretrained(model_ckpt)\n",
    "special_tokens = [\"<|im_start|>\", \"<|im_end|>\"]\n",
    "tokenizer.add_special_tokens({\"additional_special_tokens\": special_tokens})"
   ]
  },
  {
   "cell_type": "code",
   "execution_count": 8,
   "id": "18832891-9ebe-4a75-8f5f-a0c320286cd5",
   "metadata": {},
   "outputs": [
    {
     "name": "stderr",
     "output_type": "stream",
     "text": [
      "The model weights are not tied. Please use the `tie_weights` method before using the `infer_auto_device` function.\n",
      "Some weights of OLMoForCausalLM were not initialized from the model checkpoint at ../mlflow_results/olmo1b_chat/output/checkpoint-1000 and are newly initialized: ['model.transformer.ff_out.weight']\n",
      "You should probably TRAIN this model on a down-stream task to be able to use it for predictions and inference.\n"
     ]
    }
   ],
   "source": [
    "model = AutoModelForCausalLM.from_pretrained(\n",
    "    '../mlflow_results/olmo1b_chat/output/checkpoint-1000',\n",
    "    torch_dtype=torch.bfloat16,\n",
    "    device_map=\"auto\",\n",
    "    trust_remote_code=True\n",
    ")"
   ]
  },
  {
   "cell_type": "code",
   "execution_count": 9,
   "id": "a3b379b9-52bd-4334-89d8-46f0066c49a8",
   "metadata": {},
   "outputs": [
    {
     "data": {
      "text/plain": [
       "OLMoForCausalLM(\n",
       "  (model): Olmo(\n",
       "    (transformer): ModuleDict(\n",
       "      (wte): Embedding(50304, 2048)\n",
       "      (emb_drop): Dropout(p=0.0, inplace=False)\n",
       "      (ln_f): LayerNorm()\n",
       "      (blocks): ModuleList(\n",
       "        (0-15): 16 x OlmoSequentialBlock(\n",
       "          (dropout): Dropout(p=0.0, inplace=False)\n",
       "          (act): SwiGLU()\n",
       "          (attn_out): Linear(in_features=2048, out_features=2048, bias=False)\n",
       "          (ff_out): Linear(in_features=8192, out_features=2048, bias=False)\n",
       "          (rotary_emb): RotaryEmbedding()\n",
       "          (attn_norm): LayerNorm()\n",
       "          (ff_norm): LayerNorm()\n",
       "          (att_proj): Linear(in_features=2048, out_features=6144, bias=False)\n",
       "          (ff_proj): Linear(in_features=2048, out_features=16384, bias=False)\n",
       "        )\n",
       "      )\n",
       "      (ff_out): Embedding(50304, 2048)\n",
       "    )\n",
       "  )\n",
       ")"
      ]
     },
     "execution_count": 9,
     "metadata": {},
     "output_type": "execute_result"
    }
   ],
   "source": [
    "model"
   ]
  },
  {
   "cell_type": "code",
   "execution_count": 36,
   "id": "7e760a5a-be8c-4da5-9af4-f6e9c4710f51",
   "metadata": {},
   "outputs": [],
   "source": [
    "def generate(prompt, max_new_tokens=1000, chat=True):\n",
    "    if chat:\n",
    "        messages = [\n",
    "            {\"content\": \"can you describe a cat?\", \"role\": \"user\"},\n",
    "            {\"content\": \"Sure! A cat is a small, domesticated carnivorous mammal that belongs to the family Felidae and is commonly referred to as a domestic animal. Cats are known for their sleek, muscular bodies, long legs, and sharp claws, which they use to hunt and catch prey. They also have a variety of colors and patterns, including black, brown, gray, white, and orange. Cats are often playful and affectionate, and they enjoy playing with toys and chasing after objects. They are also known for their ability to adapt to different environments and habitats, making them popular pets around the world.\", \"role\": \"assistant\"},\n",
    "            {\"content\": \"what do they eat?\", \"role\": \"user\"},\n",
    "            {\"content\": \"Cats are omnivores, meaning they can consume both plants and animals. Some common foods that cats may eat include meat, fish, eggs, vegetables, fruits, and grains. However, it's important to note that some foods may be toxic or harmful to cats, so it's always best to consult with a veterinarian before feeding your cat any new food. Additionally, cats should not be given human food, such as chocolate, caffeine, or alcohol, as these substances can be toxic to cats.\", \"role\": \"assistant\"},\n",
    "            \n",
    "            {\"content\": \"Whats something they like to do?\", \"role\": \"user\"},\n",
    "            {\"content\": \"\"\"Cats are known for their love of playtime and engaging in various activities, such as batting at objects, chasing after toys, and climbing on furniture. They also enjoy spending time outdoors, exploring their surroundings and interacting with other animals. Some common activities that cats may enjoy include:\n",
    "\n",
    "1. Playing games: Cats love to play games, such as hide-and-seek, chase, and fetch.\n",
    "2. Chewing: Cats enjoy chewing on things, such as bones, string, and cardboard boxes.\n",
    "3. Tug-of-war: Cats love to play tug-of-war with their owners or other animals.\n",
    "4. Scratching: Cats enjoy scratching posts and other surfaces to mark their territory.\n",
    "5. Sitting on laps: Cats enjoy being close to their owners and can often be found sitting on laps or near their humans.\n",
    "6. Napping: Cats enjoy napping in a warm, cozy spot, such as a bed or a cat tree.\n",
    "7. Meowing: Cats meow to communicate with their owners and other animals.\n",
    "8. Licking: Cats enjoy licking themselves and other animals.\n",
    "9. Playing with toys: Cats love to play with toys, such as balls, mice, and feather toys.\n",
    "10. Visiting parks or other outdoor areas: Cats enjoy visiting parks or other outdoor areas to explore and interact with other animals.\"\"\", \"role\": \"assistant\"},\n",
    "        {\"content\": prompt, \"role\": \"user\"},\n",
    "        ]\n",
    "        \n",
    "        formatted_prompt = tokenizer.apply_chat_template(messages, tokenize=False)\n",
    "\n",
    "    input_ids = tokenizer(formatted_prompt, return_tensors=\"pt\").input_ids.to(\n",
    "        model.device\n",
    "    )\n",
    "    \n",
    "    gen_tokens = model.generate(\n",
    "        input_ids,\n",
    "        max_new_tokens=max_new_tokens,\n",
    "        eos_token_id=tokenizer.eos_token_id,\n",
    "        repetition_penalty=1.1,\n",
    "    )\n",
    "    \n",
    "    return tokenizer.batch_decode(gen_tokens, skip_special_tokens=False)[0]"
   ]
  },
  {
   "cell_type": "code",
   "execution_count": 37,
   "id": "f0516e58-c80e-44b4-b625-b424ec3f691d",
   "metadata": {},
   "outputs": [
    {
     "name": "stdout",
     "output_type": "stream",
     "text": [
      "<|im_start|>user\n",
      "can you describe a cat?<|im_end|>\n",
      "<|im_start|>assistant\n",
      "Sure! A cat is a small, domesticated carnivorous mammal that belongs to the family Felidae and is commonly referred to as a domestic animal. Cats are known for their sleek, muscular bodies, long legs, and sharp claws, which they use to hunt and catch prey. They also have a variety of colors and patterns, including black, brown, gray, white, and orange. Cats are often playful and affectionate, and they enjoy playing with toys and chasing after objects. They are also known for their ability to adapt to different environments and habitats, making them popular pets around the world.<|im_end|>\n",
      "<|im_start|>user\n",
      "what do they eat?<|im_end|>\n",
      "<|im_start|>assistant\n",
      "Cats are omnivores, meaning they can consume both plants and animals. Some common foods that cats may eat include meat, fish, eggs, vegetables, fruits, and grains. However, it's important to note that some foods may be toxic or harmful to cats, so it's always best to consult with a veterinarian before feeding your cat any new food. Additionally, cats should not be given human food, such as chocolate, caffeine, or alcohol, as these substances can be toxic to cats.<|im_end|>\n",
      "<|im_start|>user\n",
      "Whats something they like to do?<|im_end|>\n",
      "<|im_start|>assistant\n",
      "Cats are known for their love of playtime and engaging in various activities, such as batting at objects, chasing after toys, and climbing on furniture. They also enjoy spending time outdoors, exploring their surroundings and interacting with other animals. Some common activities that cats may enjoy include:\n",
      "\n",
      "1. Playing games: Cats love to play games, such as hide-and-seek, chase, and fetch.\n",
      "2. Chewing: Cats enjoy chewing on things, such as bones, string, and cardboard boxes.\n",
      "3. Tug-of-war: Cats love to play tug-of-war with their owners or other animals.\n",
      "4. Scratching: Cats enjoy scratching posts and other surfaces to mark their territory.\n",
      "5. Sitting on laps: Cats enjoy being close to their owners and can often be found sitting on laps or near their humans.\n",
      "6. Napping: Cats enjoy napping in a warm, cozy spot, such as a bed or a cat tree.\n",
      "7. Meowing: Cats meow to communicate with their owners and other animals.\n",
      "8. Licking: Cats enjoy licking themselves and other animals.\n",
      "9. Playing with toys: Cats love to play with toys, such as balls, mice, and feather toys.\n",
      "10. Visiting parks or other outdoor areas: Cats enjoy visiting parks or other outdoor areas to explore and interact with other animals.<|im_end|>\n",
      "<|im_start|>user\n",
      "So do they like to nap?<|im_end|>\n",
      "<|im_start|>assistant\n",
      "Yes, cats do enjoy napping. Cats are known for their love of sleep, and they often spend a significant amount of time resting and sleeping. While cats may not be able to nap all day, they will often take short naps throughout the day, especially when they are feeling tired or stressed out.\n",
      "\n",
      "It's important to remember that while cats may enjoy napping, it's still important to provide them with plenty of opportunities to rest and relax, such as providing them with a comfortable place to sleep and ensuring that they have access to fresh water and food. It's also important to keep an eye on your cat during naptime to make sure that they are not overheating or experiencing any other health issues.<|im_end|>\n",
      "<|endoftext|>\n"
     ]
    }
   ],
   "source": [
    "print(generate(\"So do they like to nap?\", chat=True))"
   ]
  },
  {
   "cell_type": "code",
   "execution_count": null,
   "id": "4d695dd0-80d4-44e0-ba56-b82f58cb7871",
   "metadata": {},
   "outputs": [],
   "source": []
  }
 ],
 "metadata": {
  "kernelspec": {
   "display_name": "Python 3 (ipykernel)",
   "language": "python",
   "name": "python3"
  },
  "language_info": {
   "codemirror_mode": {
    "name": "ipython",
    "version": 3
   },
   "file_extension": ".py",
   "mimetype": "text/x-python",
   "name": "python",
   "nbconvert_exporter": "python",
   "pygments_lexer": "ipython3",
   "version": "3.9.18"
  }
 },
 "nbformat": 4,
 "nbformat_minor": 5
}
