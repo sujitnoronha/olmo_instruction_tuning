{
 "cells": [
  {
   "cell_type": "code",
   "execution_count": 1,
   "id": "57955b0b-2c8a-48b5-b688-24c42008ad4d",
   "metadata": {
    "tags": []
   },
   "outputs": [],
   "source": [
    "import torch\n",
    "from datasets import load_dataset\n",
    "from transformers import DataCollatorForLanguageModeling, TrainingArguments, Trainer\n",
    "import json\n",
    "import mlflow\n",
    "import os"
   ]
  },
  {
   "cell_type": "code",
   "execution_count": 2,
   "id": "b4a38de9-8ac0-499a-b172-46c00a49997e",
   "metadata": {
    "tags": []
   },
   "outputs": [],
   "source": [
    "dataset = load_dataset('lmsys/lmsys-chat-1m')"
   ]
  },
  {
   "cell_type": "code",
   "execution_count": 3,
   "id": "8f3a9b0a-9a64-4858-a837-d2df61371341",
   "metadata": {
    "tags": []
   },
   "outputs": [
    {
     "data": {
      "text/plain": [
       "DatasetDict({\n",
       "    train: Dataset({\n",
       "        features: ['conversation_id', 'model', 'conversation', 'turn', 'language', 'openai_moderation', 'redacted'],\n",
       "        num_rows: 1000000\n",
       "    })\n",
       "})"
      ]
     },
     "execution_count": 3,
     "metadata": {},
     "output_type": "execute_result"
    }
   ],
   "source": [
    "dataset"
   ]
  },
  {
   "cell_type": "code",
   "execution_count": 10,
   "id": "ae8f5692-5d5a-44a9-b2b9-d1d9ce13c75d",
   "metadata": {
    "tags": []
   },
   "outputs": [
    {
     "data": {
      "text/plain": [
       "{'conversation_id': '92f7aa082a94463a99f41d4f9dcf5a37',\n",
       " 'model': 'koala-13b',\n",
       " 'conversation': [{'content': 'hello how are you', 'role': 'user'},\n",
       "  {'content': \"Hello! I am an AI language model, so I don't have feelings, but I'm here to assist you with any questions or tasks you might have. How can I help you today?\",\n",
       "   'role': 'assistant'},\n",
       "  {'content': 'ok, thank you', 'role': 'user'},\n",
       "  {'content': \"u're welcome! Is there anything else I can assist you with?\",\n",
       "   'role': 'assistant'},\n",
       "  {'content': 'why do you use u but not you?', 'role': 'user'},\n",
       "  {'content': 'the contraction \"u\" as a way to simplify my language and make it easier for you to understand. It\\'s a common convention used in informal writing and texting.',\n",
       "   'role': 'assistant'},\n",
       "  {'content': 'you need to be formal when you talk with me', 'role': 'user'},\n",
       "  {'content': 'ize if my previous response was not formal enough. I will make sure to be more formal in my future interactions with you.',\n",
       "   'role': 'assistant'},\n",
       "  {'content': 'apology for me', 'role': 'user'},\n",
       "  {'content': 'if any of my previous responses were not satisfactory. I am here to assist you to the best of my abilities and I will continue to do so in the future.',\n",
       "   'role': 'assistant'},\n",
       "  {'content': 'ok', 'role': 'user'},\n",
       "  {'content': 'ing else you need help with?', 'role': 'assistant'}],\n",
       " 'turn': 6,\n",
       " 'language': 'English',\n",
       " 'openai_moderation': [{'categories': {'harassment': False,\n",
       "    'harassment/threatening': False,\n",
       "    'hate': False,\n",
       "    'hate/threatening': False,\n",
       "    'self-harm': False,\n",
       "    'self-harm/instructions': False,\n",
       "    'self-harm/intent': False,\n",
       "    'sexual': False,\n",
       "    'sexual/minors': False,\n",
       "    'violence': False,\n",
       "    'violence/graphic': False},\n",
       "   'category_scores': {'harassment': 1.673629e-05,\n",
       "    'harassment/threatening': 5.6015807e-07,\n",
       "    'hate': 5.0314543e-07,\n",
       "    'hate/threatening': 2.1065672e-08,\n",
       "    'self-harm': 3.2126707e-08,\n",
       "    'self-harm/instructions': 3.9421966e-08,\n",
       "    'self-harm/intent': 1.490649e-08,\n",
       "    'sexual': 4.2352553e-06,\n",
       "    'sexual/minors': 3.0746452e-08,\n",
       "    'violence': 7.772901e-07,\n",
       "    'violence/graphic': 8.2592e-08},\n",
       "   'flagged': False},\n",
       "  {'categories': {'harassment': False,\n",
       "    'harassment/threatening': False,\n",
       "    'hate': False,\n",
       "    'hate/threatening': False,\n",
       "    'self-harm': False,\n",
       "    'self-harm/instructions': False,\n",
       "    'self-harm/intent': False,\n",
       "    'sexual': False,\n",
       "    'sexual/minors': False,\n",
       "    'violence': False,\n",
       "    'violence/graphic': False},\n",
       "   'category_scores': {'harassment': 0.0009396847,\n",
       "    'harassment/threatening': 1.5036253e-06,\n",
       "    'hate': 1.2863723e-05,\n",
       "    'hate/threatening': 1.39641445e-08,\n",
       "    'self-harm': 7.334516e-07,\n",
       "    'self-harm/instructions': 5.295197e-07,\n",
       "    'self-harm/intent': 5.260823e-07,\n",
       "    'sexual': 2.1437383e-05,\n",
       "    'sexual/minors': 2.788881e-07,\n",
       "    'violence': 1.96975e-05,\n",
       "    'violence/graphic': 2.5793082e-07},\n",
       "   'flagged': False},\n",
       "  {'categories': {'harassment': False,\n",
       "    'harassment/threatening': False,\n",
       "    'hate': False,\n",
       "    'hate/threatening': False,\n",
       "    'self-harm': False,\n",
       "    'self-harm/instructions': False,\n",
       "    'self-harm/intent': False,\n",
       "    'sexual': False,\n",
       "    'sexual/minors': False,\n",
       "    'violence': False,\n",
       "    'violence/graphic': False},\n",
       "   'category_scores': {'harassment': 4.355569e-05,\n",
       "    'harassment/threatening': 1.1580479e-06,\n",
       "    'hate': 7.550098e-06,\n",
       "    'hate/threatening': 2.3227315e-07,\n",
       "    'self-harm': 4.2876297e-07,\n",
       "    'self-harm/instructions': 5.033777e-07,\n",
       "    'self-harm/intent': 1.9892364e-07,\n",
       "    'sexual': 0.0014328867,\n",
       "    'sexual/minors': 3.4398408e-06,\n",
       "    'violence': 2.1155956e-05,\n",
       "    'violence/graphic': 7.6645244e-07},\n",
       "   'flagged': False},\n",
       "  {'categories': {'harassment': False,\n",
       "    'harassment/threatening': False,\n",
       "    'hate': False,\n",
       "    'hate/threatening': False,\n",
       "    'self-harm': False,\n",
       "    'self-harm/instructions': False,\n",
       "    'self-harm/intent': False,\n",
       "    'sexual': False,\n",
       "    'sexual/minors': False,\n",
       "    'violence': False,\n",
       "    'violence/graphic': False},\n",
       "   'category_scores': {'harassment': 1.0576541e-05,\n",
       "    'harassment/threatening': 1.25895925e-08,\n",
       "    'hate': 4.2962657e-08,\n",
       "    'hate/threatening': 1.05446e-10,\n",
       "    'self-harm': 1.4872631e-09,\n",
       "    'self-harm/instructions': 2.8653313e-09,\n",
       "    'self-harm/intent': 1.2330127e-09,\n",
       "    'sexual': 2.6035077e-05,\n",
       "    'sexual/minors': 4.5586937e-08,\n",
       "    'violence': 5.1889997e-06,\n",
       "    'violence/graphic': 1.2167273e-08},\n",
       "   'flagged': False},\n",
       "  {'categories': {'harassment': False,\n",
       "    'harassment/threatening': False,\n",
       "    'hate': False,\n",
       "    'hate/threatening': False,\n",
       "    'self-harm': False,\n",
       "    'self-harm/instructions': False,\n",
       "    'self-harm/intent': False,\n",
       "    'sexual': False,\n",
       "    'sexual/minors': False,\n",
       "    'violence': False,\n",
       "    'violence/graphic': False},\n",
       "   'category_scores': {'harassment': 0.0009801176,\n",
       "    'harassment/threatening': 1.047208e-05,\n",
       "    'hate': 1.7056389e-05,\n",
       "    'hate/threatening': 6.3730536e-09,\n",
       "    'self-harm': 1.6094679e-06,\n",
       "    'self-harm/instructions': 5.0506213e-07,\n",
       "    'self-harm/intent': 5.454138e-07,\n",
       "    'sexual': 3.700672e-06,\n",
       "    'sexual/minors': 1.3603486e-08,\n",
       "    'violence': 3.437303e-06,\n",
       "    'violence/graphic': 1.056851e-06},\n",
       "   'flagged': False},\n",
       "  {'categories': {'harassment': False,\n",
       "    'harassment/threatening': False,\n",
       "    'hate': False,\n",
       "    'hate/threatening': False,\n",
       "    'self-harm': False,\n",
       "    'self-harm/instructions': False,\n",
       "    'self-harm/intent': False,\n",
       "    'sexual': False,\n",
       "    'sexual/minors': False,\n",
       "    'violence': False,\n",
       "    'violence/graphic': False},\n",
       "   'category_scores': {'harassment': 8.904092e-05,\n",
       "    'harassment/threatening': 1.1747028e-10,\n",
       "    'hate': 3.672931e-06,\n",
       "    'hate/threatening': 1.6729196e-11,\n",
       "    'self-harm': 2.0374308e-10,\n",
       "    'self-harm/instructions': 5.3641053e-11,\n",
       "    'self-harm/intent': 9.1857855e-11,\n",
       "    'sexual': 1.0539763e-06,\n",
       "    'sexual/minors': 4.256984e-11,\n",
       "    'violence': 3.3397748e-06,\n",
       "    'violence/graphic': 1.7078952e-10},\n",
       "   'flagged': False},\n",
       "  {'categories': {'harassment': False,\n",
       "    'harassment/threatening': False,\n",
       "    'hate': False,\n",
       "    'hate/threatening': False,\n",
       "    'self-harm': False,\n",
       "    'self-harm/instructions': False,\n",
       "    'self-harm/intent': False,\n",
       "    'sexual': False,\n",
       "    'sexual/minors': False,\n",
       "    'violence': False,\n",
       "    'violence/graphic': False},\n",
       "   'category_scores': {'harassment': 2.7191161e-05,\n",
       "    'harassment/threatening': 7.5729126e-08,\n",
       "    'hate': 1.4195492e-05,\n",
       "    'hate/threatening': 8.5669045e-09,\n",
       "    'self-harm': 1.6193098e-08,\n",
       "    'self-harm/instructions': 1.3378253e-09,\n",
       "    'self-harm/intent': 6.0765255e-09,\n",
       "    'sexual': 1.9952586e-06,\n",
       "    'sexual/minors': 2.832322e-09,\n",
       "    'violence': 5.034286e-07,\n",
       "    'violence/graphic': 1.5065348e-09},\n",
       "   'flagged': False},\n",
       "  {'categories': {'harassment': False,\n",
       "    'harassment/threatening': False,\n",
       "    'hate': False,\n",
       "    'hate/threatening': False,\n",
       "    'self-harm': False,\n",
       "    'self-harm/instructions': False,\n",
       "    'self-harm/intent': False,\n",
       "    'sexual': False,\n",
       "    'sexual/minors': False,\n",
       "    'violence': False,\n",
       "    'violence/graphic': False},\n",
       "   'category_scores': {'harassment': 2.0951609e-06,\n",
       "    'harassment/threatening': 1.3240215e-08,\n",
       "    'hate': 2.5268202e-08,\n",
       "    'hate/threatening': 4.2503473e-11,\n",
       "    'self-harm': 2.2822029e-09,\n",
       "    'self-harm/instructions': 2.1340243e-10,\n",
       "    'self-harm/intent': 3.858732e-10,\n",
       "    'sexual': 1.3279399e-05,\n",
       "    'sexual/minors': 4.153565e-08,\n",
       "    'violence': 2.1181866e-06,\n",
       "    'violence/graphic': 3.80906e-09},\n",
       "   'flagged': False},\n",
       "  {'categories': {'harassment': False,\n",
       "    'harassment/threatening': False,\n",
       "    'hate': False,\n",
       "    'hate/threatening': False,\n",
       "    'self-harm': False,\n",
       "    'self-harm/instructions': False,\n",
       "    'self-harm/intent': False,\n",
       "    'sexual': False,\n",
       "    'sexual/minors': False,\n",
       "    'violence': False,\n",
       "    'violence/graphic': False},\n",
       "   'category_scores': {'harassment': 0.00015484764,\n",
       "    'harassment/threatening': 1.9823367e-06,\n",
       "    'hate': 2.0121422e-05,\n",
       "    'hate/threatening': 5.882943e-07,\n",
       "    'self-harm': 5.7379197e-07,\n",
       "    'self-harm/instructions': 2.9134247e-07,\n",
       "    'self-harm/intent': 2.2929564e-06,\n",
       "    'sexual': 0.0002130248,\n",
       "    'sexual/minors': 3.6397532e-06,\n",
       "    'violence': 9.678931e-06,\n",
       "    'violence/graphic': 8.636043e-08},\n",
       "   'flagged': False},\n",
       "  {'categories': {'harassment': False,\n",
       "    'harassment/threatening': False,\n",
       "    'hate': False,\n",
       "    'hate/threatening': False,\n",
       "    'self-harm': False,\n",
       "    'self-harm/instructions': False,\n",
       "    'self-harm/intent': False,\n",
       "    'sexual': False,\n",
       "    'sexual/minors': False,\n",
       "    'violence': False,\n",
       "    'violence/graphic': False},\n",
       "   'category_scores': {'harassment': 2.5709141e-07,\n",
       "    'harassment/threatening': 3.1832992e-09,\n",
       "    'hate': 1.0569075e-08,\n",
       "    'hate/threatening': 1.1589169e-11,\n",
       "    'self-harm': 3.9525396e-09,\n",
       "    'self-harm/instructions': 4.6151538e-10,\n",
       "    'self-harm/intent': 2.2363968e-09,\n",
       "    'sexual': 7.9146725e-05,\n",
       "    'sexual/minors': 9.3686694e-08,\n",
       "    'violence': 4.605197e-06,\n",
       "    'violence/graphic': 1.566782e-08},\n",
       "   'flagged': False},\n",
       "  {'categories': {'harassment': False,\n",
       "    'harassment/threatening': False,\n",
       "    'hate': False,\n",
       "    'hate/threatening': False,\n",
       "    'self-harm': False,\n",
       "    'self-harm/instructions': False,\n",
       "    'self-harm/intent': False,\n",
       "    'sexual': False,\n",
       "    'sexual/minors': False,\n",
       "    'violence': False,\n",
       "    'violence/graphic': False},\n",
       "   'category_scores': {'harassment': 6.943862e-05,\n",
       "    'harassment/threatening': 1.0201606e-05,\n",
       "    'hate': 8.8199915e-05,\n",
       "    'hate/threatening': 1.7353856e-05,\n",
       "    'self-harm': 8.313287e-06,\n",
       "    'self-harm/instructions': 1.744031e-06,\n",
       "    'self-harm/intent': 2.5776487e-06,\n",
       "    'sexual': 0.004192609,\n",
       "    'sexual/minors': 0.00013284633,\n",
       "    'violence': 0.00025035092,\n",
       "    'violence/graphic': 8.017307e-06},\n",
       "   'flagged': False},\n",
       "  {'categories': {'harassment': False,\n",
       "    'harassment/threatening': False,\n",
       "    'hate': False,\n",
       "    'hate/threatening': False,\n",
       "    'self-harm': False,\n",
       "    'self-harm/instructions': False,\n",
       "    'self-harm/intent': False,\n",
       "    'sexual': False,\n",
       "    'sexual/minors': False,\n",
       "    'violence': False,\n",
       "    'violence/graphic': False},\n",
       "   'category_scores': {'harassment': 1.0064799e-05,\n",
       "    'harassment/threatening': 1.4165222e-07,\n",
       "    'hate': 1.21661e-06,\n",
       "    'hate/threatening': 2.9228776e-08,\n",
       "    'self-harm': 5.5206084e-07,\n",
       "    'self-harm/instructions': 6.606308e-08,\n",
       "    'self-harm/intent': 4.8421e-07,\n",
       "    'sexual': 5.4517168e-05,\n",
       "    'sexual/minors': 1.336939e-06,\n",
       "    'violence': 1.835852e-05,\n",
       "    'violence/graphic': 1.7333677e-07},\n",
       "   'flagged': False}],\n",
       " 'redacted': False}"
      ]
     },
     "execution_count": 10,
     "metadata": {},
     "output_type": "execute_result"
    }
   ],
   "source": [
    "dataset['train'][1245]"
   ]
  },
  {
   "cell_type": "code",
   "execution_count": 5,
   "id": "ffc7c335-9811-4175-b287-92dbbd3fa5d3",
   "metadata": {},
   "outputs": [
    {
     "data": {
      "application/vnd.jupyter.widget-view+json": {
       "model_id": "ce34548a6eff45e98d72751eb5ca2816",
       "version_major": 2,
       "version_minor": 0
      },
      "text/plain": [
       "Filter (num_proc=4):   0%|          | 0/1000000 [00:00<?, ? examples/s]"
      ]
     },
     "metadata": {},
     "output_type": "display_data"
    }
   ],
   "source": [
    "dataset = dataset.filter(lambda conv: conv['language'] == 'English', num_proc=4) # filtering all the other languages"
   ]
  },
  {
   "cell_type": "code",
   "execution_count": 6,
   "id": "84193e61-34e2-4f00-8315-c47779c45ce7",
   "metadata": {},
   "outputs": [],
   "source": [
    "dict_cols = [key for key in dict(dataset['train'][0])]"
   ]
  },
  {
   "cell_type": "code",
   "execution_count": 7,
   "id": "5478e7c5-5e7c-47e5-9ae1-c15155bf5f7e",
   "metadata": {},
   "outputs": [
    {
     "data": {
      "text/plain": [
       "['conversation_id',\n",
       " 'model',\n",
       " 'conversation',\n",
       " 'turn',\n",
       " 'language',\n",
       " 'openai_moderation',\n",
       " 'redacted']"
      ]
     },
     "execution_count": 7,
     "metadata": {},
     "output_type": "execute_result"
    }
   ],
   "source": [
    "dict_cols"
   ]
  },
  {
   "cell_type": "markdown",
   "id": "886c8db4-f464-440f-9672-2f9f5b6502a9",
   "metadata": {},
   "source": [
    "## Format according to ChatML "
   ]
  },
  {
   "cell_type": "code",
   "execution_count": 8,
   "id": "aa63f993-175f-40a7-9a29-4e68008f1303",
   "metadata": {
    "tags": []
   },
   "outputs": [],
   "source": [
    "from transformers import AutoTokenizer, AutoModelForCausalLM\n",
    "import torch\n",
    "import hf_olmo"
   ]
  },
  {
   "cell_type": "code",
   "execution_count": 9,
   "id": "9b9baaa3-831c-467c-994e-08505ddd3117",
   "metadata": {
    "tags": []
   },
   "outputs": [],
   "source": [
    "model_ckpt = \"allenai/OLMo-1B\""
   ]
  },
  {
   "cell_type": "code",
   "execution_count": 10,
   "id": "204ce2c3-778d-4cee-a6b5-d1b5a5c6b25e",
   "metadata": {
    "tags": []
   },
   "outputs": [],
   "source": [
    "tokenizer = AutoTokenizer.from_pretrained(model_ckpt)"
   ]
  },
  {
   "cell_type": "code",
   "execution_count": 11,
   "id": "92f1930e-23f0-4e24-ab2d-c4e3de4345e3",
   "metadata": {
    "tags": []
   },
   "outputs": [
    {
     "name": "stdout",
     "output_type": "stream",
     "text": [
      "None\n"
     ]
    }
   ],
   "source": [
    "print(tokenizer.chat_template)"
   ]
  },
  {
   "cell_type": "code",
   "execution_count": 12,
   "id": "395db7fa-2937-4bef-8dd8-52ea412466d2",
   "metadata": {
    "tags": []
   },
   "outputs": [
    {
     "name": "stderr",
     "output_type": "stream",
     "text": [
      "\n",
      "No chat template is defined for this tokenizer - using a default chat template that implements the ChatML format (without BOS/EOS tokens!). If the default is not appropriate for your model, please set `tokenizer.chat_template` to an appropriate template. See https://huggingface.co/docs/transformers/main/chat_templating for more information.\n",
      "\n"
     ]
    },
    {
     "name": "stdout",
     "output_type": "stream",
     "text": [
      "{% for message in messages %}{{'<|im_start|>' + message['role'] + '\n",
      "' + message['content'] + '<|im_end|>' + '\n",
      "'}}{% endfor %}{% if add_generation_prompt %}{{ '<|im_start|>assistant\n",
      "' }}{% endif %}\n"
     ]
    }
   ],
   "source": [
    "print(tokenizer.default_chat_template)"
   ]
  },
  {
   "cell_type": "code",
   "execution_count": 13,
   "id": "923d8792-26f8-44d6-b8a9-db1b8c03e055",
   "metadata": {},
   "outputs": [
    {
     "data": {
      "text/plain": [
       "\"<|im_start|>user\\nhow can identity protection services help protect me against identity theft<|im_end|>\\n<|im_start|>assistant\\nIdentity protection services can help protect you against identity theft in several ways:\\n\\n1. Monitoring: Many identity protection services monitor your credit reports, public records, and other sources for signs of identity theft. If they detect any suspicious activity, they will alert you so you can take action.\\n2. Credit freeze: Some identity protection services can help you freeze your credit, which makes it more difficult for thieves to open new accounts in your name.\\n3. Identity theft insurance: Some identity protection services offer insurance that can help you recover financially if you become a victim of identity theft.\\n4. Assistance: Many identity protection services offer assistance if you become a victim of identity theft. They can help you file a police report, contact credit bureaus, and other steps to help you restore your identity.\\n\\nOverall, identity protection services can provide you with peace of mind and help you take proactive steps to protect your identity. However, it's important to note that no service can completely guarantee that you will never become a victim of identity theft. It's still important to take steps to protect your own identity, such as being cautious with personal information and regularly monitoring your credit reports.<|im_end|>\\n\""
      ]
     },
     "execution_count": 13,
     "metadata": {},
     "output_type": "execute_result"
    }
   ],
   "source": [
    "tokenizer.apply_chat_template(dataset['train'][0]['conversation'], tokenize=False, add_generation_prompt=False)"
   ]
  },
  {
   "cell_type": "markdown",
   "id": "3175b961-a61d-4ba7-bd12-87f511bc28cb",
   "metadata": {},
   "source": [
    "## adding tokens to OLMO"
   ]
  },
  {
   "cell_type": "code",
   "execution_count": 14,
   "id": "5045caf5-8ba8-4dd9-8b34-4b925ac63bbd",
   "metadata": {},
   "outputs": [],
   "source": [
    "special_tokens = [\"<|im_start|>\", \"<|im_end|>\"]"
   ]
  },
  {
   "cell_type": "code",
   "execution_count": 15,
   "id": "16a4865b-9839-475f-bc9c-f444a929e32f",
   "metadata": {},
   "outputs": [
    {
     "data": {
      "text/plain": [
       "2"
      ]
     },
     "execution_count": 15,
     "metadata": {},
     "output_type": "execute_result"
    }
   ],
   "source": [
    "tokenizer.add_special_tokens({\"additional_special_tokens\": special_tokens})"
   ]
  },
  {
   "cell_type": "code",
   "execution_count": 16,
   "id": "f1f921e7-4160-4cb2-940b-23292baaf8c2",
   "metadata": {},
   "outputs": [],
   "source": [
    "def format_chat(ex):\n",
    "   \n",
    "    chat = ex['conversation']\n",
    "    \n",
    "    formatted_chat = tokenizer.apply_chat_template(\n",
    "        chat,\n",
    "        tokenize=False,\n",
    "        add_generation_prompt=False,\n",
    "    )+ tokenizer.eos_token \n",
    "    \n",
    "    tokenized_output = tokenizer(\n",
    "            formatted_chat,\n",
    "            add_special_tokens = False,\n",
    "            padding=\"max_length\",\n",
    "            max_length=1024,\n",
    "            truncation=True\n",
    "    )\n",
    "    \n",
    "    return tokenized_output"
   ]
  },
  {
   "cell_type": "code",
   "execution_count": null,
   "id": "6467d1b0-55ce-463c-a392-f28ee50e60f7",
   "metadata": {},
   "outputs": [],
   "source": []
  },
  {
   "cell_type": "code",
   "execution_count": 17,
   "id": "217bffe8-102a-460e-84a3-53ddeb4102b9",
   "metadata": {},
   "outputs": [
    {
     "data": {
      "application/vnd.jupyter.widget-view+json": {
       "model_id": "422c785b4a144d3fb82cc9984d965301",
       "version_major": 2,
       "version_minor": 0
      },
      "text/plain": [
       "Map (num_proc=16):   0%|          | 0/777453 [00:00<?, ? examples/s]"
      ]
     },
     "metadata": {},
     "output_type": "display_data"
    }
   ],
   "source": [
    "lmsys_tokenized = dataset.map(format_chat, num_proc=16).remove_columns(dict_cols)"
   ]
  },
  {
   "cell_type": "code",
   "execution_count": 18,
   "id": "eb04c8e2-320e-4e98-a728-30fc848f2296",
   "metadata": {
    "scrolled": true
   },
   "outputs": [
    {
     "data": {
      "text/plain": [
       "DatasetDict({\n",
       "    train: Dataset({\n",
       "        features: ['input_ids', 'token_type_ids', 'attention_mask'],\n",
       "        num_rows: 777453\n",
       "    })\n",
       "})"
      ]
     },
     "execution_count": 18,
     "metadata": {},
     "output_type": "execute_result"
    }
   ],
   "source": [
    "lmsys_tokenized"
   ]
  },
  {
   "cell_type": "markdown",
   "id": "112ffddc-29e4-4a8a-8036-afc9919663ac",
   "metadata": {},
   "source": [
    "## loading model"
   ]
  },
  {
   "cell_type": "code",
   "execution_count": 42,
   "id": "5d742e0f-94cf-4240-9284-0b28390b25c5",
   "metadata": {},
   "outputs": [
    {
     "name": "stderr",
     "output_type": "stream",
     "text": [
      "The model weights are not tied. Please use the `tie_weights` method before using the `infer_auto_device` function.\n",
      "Some weights of OLMoForCausalLM were not initialized from the model checkpoint at allenai/OLMo-1B and are newly initialized: ['model.transformer.ff_out.weight']\n",
      "You should probably TRAIN this model on a down-stream task to be able to use it for predictions and inference.\n"
     ]
    }
   ],
   "source": [
    "model = AutoModelForCausalLM.from_pretrained(\n",
    "    model_ckpt,\n",
    "    torch_dtype=torch.bfloat16,\n",
    "    device_map=\"auto\",\n",
    "    trust_remote_code=True\n",
    ")"
   ]
  },
  {
   "cell_type": "code",
   "execution_count": 19,
   "id": "f9fe65c2-f9e9-41fc-a6f3-8e95d76bc2c1",
   "metadata": {},
   "outputs": [],
   "source": [
    "data_collator= DataCollatorForLanguageModeling(tokenizer=tokenizer, mlm=False)"
   ]
  },
  {
   "cell_type": "code",
   "execution_count": 20,
   "id": "1ec4c1a7-61a1-4cbd-890c-4ede7630ced1",
   "metadata": {},
   "outputs": [],
   "source": [
    "from transformers import set_seed\n",
    "\n",
    "set_seed(123)\n",
    "\n",
    "olmo_tokenized_split = lmsys_tokenized[\"train\"].train_test_split(\n",
    "    train_size=60000, test_size=10000)"
   ]
  },
  {
   "cell_type": "code",
   "execution_count": 22,
   "id": "41116e59-6e64-4276-afc4-5034c26f6908",
   "metadata": {},
   "outputs": [],
   "source": [
    "!export MLFLOW_EXPERIMENT_NAME=fraud-detection\n",
    "\n"
   ]
  },
  {
   "cell_type": "code",
   "execution_count": 23,
   "id": "b5d7c499-f6b1-4f74-89c1-498343d37a19",
   "metadata": {
    "scrolled": true
   },
   "outputs": [
    {
     "name": "stdout",
     "output_type": "stream",
     "text": [
      "Created experiment 'olmo1b_chat' with id 701987021258002861\n"
     ]
    }
   ],
   "source": [
    "!mlflow experiments create --experiment-name olmo1b_chat"
   ]
  },
  {
   "cell_type": "code",
   "execution_count": null,
   "id": "ae2ee2f5-d0aa-4cb6-87e9-bf317bf87e51",
   "metadata": {},
   "outputs": [],
   "source": [
    "#Created experiment 'olmo1b_chat' with id 701987021258002861"
   ]
  },
  {
   "cell_type": "code",
   "execution_count": 29,
   "id": "3208e2d5-bb96-45ad-9a7c-e139984e8450",
   "metadata": {},
   "outputs": [],
   "source": [
    "mlflow_tracking_path = os.path.join('../mlflow_results', 'olmo_orcaslim_instruct')"
   ]
  },
  {
   "cell_type": "code",
   "execution_count": 32,
   "id": "300e1066-cced-40dd-8017-6e88c0190e8d",
   "metadata": {},
   "outputs": [],
   "source": [
    "if not os.path.exists(mlflow_tracking_path):\n",
    "    os.mkdir(mlflow_tracking_path)"
   ]
  },
  {
   "cell_type": "code",
   "execution_count": 33,
   "id": "cdca36b8-4144-4043-a371-b3b38ae222ec",
   "metadata": {},
   "outputs": [],
   "source": [
    "OUTPUT_DIR = os.path.join(mlflow_tracking_path, 'output')\n",
    "LOG_DIR = os.path.join(mlflow_tracking_path, \"logs\")"
   ]
  },
  {
   "cell_type": "code",
   "execution_count": 39,
   "id": "a95707dd-876f-44a5-8cfa-e04de5e19d7c",
   "metadata": {},
   "outputs": [],
   "source": [
    "training_args = TrainingArguments(\n",
    "    output_dir=OUTPUT_DIR,\n",
    "    num_train_epochs=5,\n",
    "    per_device_train_batch_size=32,\n",
    "    per_device_eval_batch_size=4,\n",
    "    auto_find_batch_size=True,\n",
    "    gradient_accumulation_steps=8,\n",
    "    warmup_steps=1,\n",
    "    weight_decay=0.01,\n",
    "    logging_dir=LOG_DIR,\n",
    "    logging_steps=5,  # Log every 5 steps\n",
    "    evaluation_strategy=\"epoch\",\n",
    "    lr_scheduler_type=\"linear\",\n",
    "    bf16=True,\n",
    "    gradient_checkpointing=False,\n",
    "    save_steps=1000,\n",
    "    learning_rate=1e-5\n",
    ")"
   ]
  },
  {
   "cell_type": "code",
   "execution_count": 43,
   "id": "a19a7c4d-6cd9-403b-aa01-949b9d086b1d",
   "metadata": {},
   "outputs": [
    {
     "name": "stderr",
     "output_type": "stream",
     "text": [
      "Detected kernel version 3.10.0, which is below the recommended minimum of 5.5.0; this can cause the process to hang. It is recommended to upgrade the kernel to the minimum version or higher.\n"
     ]
    }
   ],
   "source": [
    "trainer = Trainer(\n",
    "    model=model,\n",
    "    args=training_args,\n",
    "    train_dataset=olmo_tokenized_split[\"train\"],\n",
    "    eval_dataset=olmo_tokenized_split[\"test\"],\n",
    "    data_collator=data_collator,\n",
    ")"
   ]
  },
  {
   "cell_type": "code",
   "execution_count": 44,
   "id": "4038a0a7-966a-4864-804d-0af707792694",
   "metadata": {},
   "outputs": [],
   "source": [
    "experiment_id = \"701987021258002861\""
   ]
  },
  {
   "cell_type": "code",
   "execution_count": null,
   "id": "a344807d-f9ec-467c-aa53-d092c622e724",
   "metadata": {},
   "outputs": [],
   "source": [
    "mlflow.set_tracking_uri(mlflow_tracking_path)\n",
    "mlflow.set_experiment(experiment_id)\n",
    "with mlflow.start_run(log_system_metrics=True):\n",
    "    trainer.evaluate() # eval before starting tuning\n",
    "    trainer.train()\n",
    "    mlflow.log_params(training_args.to_dict())\n",
    "    "
   ]
  }
 ],
 "metadata": {
  "kernelspec": {
   "display_name": "Python 3 (ipykernel)",
   "language": "python",
   "name": "python3"
  },
  "language_info": {
   "codemirror_mode": {
    "name": "ipython",
    "version": 3
   },
   "file_extension": ".py",
   "mimetype": "text/x-python",
   "name": "python",
   "nbconvert_exporter": "python",
   "pygments_lexer": "ipython3",
   "version": "3.9.18"
  }
 },
 "nbformat": 4,
 "nbformat_minor": 5
}
