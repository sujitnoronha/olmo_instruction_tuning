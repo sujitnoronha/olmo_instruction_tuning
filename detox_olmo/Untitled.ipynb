{
 "cells": [
  {
   "cell_type": "code",
   "execution_count": 3,
   "id": "df87363d-e118-4e46-8147-fd1d3b5d5322",
   "metadata": {},
   "outputs": [
    {
     "name": "stdout",
     "output_type": "stream",
     "text": [
      "Collecting trl\n",
      "  Downloading trl-0.8.3-py3-none-any.whl.metadata (11 kB)\n",
      "Requirement already satisfied: torch>=1.4.0 in /home/snoronha/conda/envs/venv/lib/python3.9/site-packages (from trl) (2.2.0)\n",
      "Requirement already satisfied: transformers>=4.31.0 in /home/snoronha/conda/envs/venv/lib/python3.9/site-packages (from trl) (4.37.2)\n",
      "Requirement already satisfied: numpy>=1.18.2 in /home/snoronha/conda/envs/venv/lib/python3.9/site-packages (from trl) (1.26.4)\n",
      "Requirement already satisfied: accelerate in /home/snoronha/conda/envs/venv/lib/python3.9/site-packages (from trl) (0.27.2)\n",
      "Requirement already satisfied: datasets in /home/snoronha/conda/envs/venv/lib/python3.9/site-packages (from trl) (2.18.0)\n",
      "Collecting tyro>=0.5.11 (from trl)\n",
      "  Downloading tyro-0.8.3-py3-none-any.whl.metadata (7.9 kB)\n",
      "Requirement already satisfied: filelock in /home/snoronha/conda/envs/venv/lib/python3.9/site-packages (from torch>=1.4.0->trl) (3.13.1)\n",
      "Requirement already satisfied: typing-extensions>=4.8.0 in /home/snoronha/conda/envs/venv/lib/python3.9/site-packages (from torch>=1.4.0->trl) (4.9.0)\n",
      "Requirement already satisfied: sympy in /home/snoronha/conda/envs/venv/lib/python3.9/site-packages (from torch>=1.4.0->trl) (1.12)\n",
      "Requirement already satisfied: networkx in /home/snoronha/conda/envs/venv/lib/python3.9/site-packages (from torch>=1.4.0->trl) (3.2.1)\n",
      "Requirement already satisfied: jinja2 in /home/snoronha/conda/envs/venv/lib/python3.9/site-packages (from torch>=1.4.0->trl) (3.1.3)\n",
      "Requirement already satisfied: fsspec in /home/snoronha/conda/envs/venv/lib/python3.9/site-packages (from torch>=1.4.0->trl) (2024.2.0)\n",
      "Requirement already satisfied: nvidia-cuda-nvrtc-cu12==12.1.105 in /home/snoronha/conda/envs/venv/lib/python3.9/site-packages (from torch>=1.4.0->trl) (12.1.105)\n",
      "Requirement already satisfied: nvidia-cuda-runtime-cu12==12.1.105 in /home/snoronha/conda/envs/venv/lib/python3.9/site-packages (from torch>=1.4.0->trl) (12.1.105)\n",
      "Requirement already satisfied: nvidia-cuda-cupti-cu12==12.1.105 in /home/snoronha/conda/envs/venv/lib/python3.9/site-packages (from torch>=1.4.0->trl) (12.1.105)\n",
      "Requirement already satisfied: nvidia-cudnn-cu12==8.9.2.26 in /home/snoronha/conda/envs/venv/lib/python3.9/site-packages (from torch>=1.4.0->trl) (8.9.2.26)\n",
      "Requirement already satisfied: nvidia-cublas-cu12==12.1.3.1 in /home/snoronha/conda/envs/venv/lib/python3.9/site-packages (from torch>=1.4.0->trl) (12.1.3.1)\n",
      "Requirement already satisfied: nvidia-cufft-cu12==11.0.2.54 in /home/snoronha/conda/envs/venv/lib/python3.9/site-packages (from torch>=1.4.0->trl) (11.0.2.54)\n",
      "Requirement already satisfied: nvidia-curand-cu12==10.3.2.106 in /home/snoronha/conda/envs/venv/lib/python3.9/site-packages (from torch>=1.4.0->trl) (10.3.2.106)\n",
      "Requirement already satisfied: nvidia-cusolver-cu12==11.4.5.107 in /home/snoronha/conda/envs/venv/lib/python3.9/site-packages (from torch>=1.4.0->trl) (11.4.5.107)\n",
      "Requirement already satisfied: nvidia-cusparse-cu12==12.1.0.106 in /home/snoronha/conda/envs/venv/lib/python3.9/site-packages (from torch>=1.4.0->trl) (12.1.0.106)\n",
      "Requirement already satisfied: nvidia-nccl-cu12==2.19.3 in /home/snoronha/conda/envs/venv/lib/python3.9/site-packages (from torch>=1.4.0->trl) (2.19.3)\n",
      "Requirement already satisfied: nvidia-nvtx-cu12==12.1.105 in /home/snoronha/conda/envs/venv/lib/python3.9/site-packages (from torch>=1.4.0->trl) (12.1.105)\n",
      "Requirement already satisfied: triton==2.2.0 in /home/snoronha/conda/envs/venv/lib/python3.9/site-packages (from torch>=1.4.0->trl) (2.2.0)\n",
      "Requirement already satisfied: nvidia-nvjitlink-cu12 in /home/snoronha/conda/envs/venv/lib/python3.9/site-packages (from nvidia-cusolver-cu12==11.4.5.107->torch>=1.4.0->trl) (12.3.101)\n",
      "Requirement already satisfied: huggingface-hub<1.0,>=0.19.3 in /home/snoronha/conda/envs/venv/lib/python3.9/site-packages (from transformers>=4.31.0->trl) (0.20.3)\n",
      "Requirement already satisfied: packaging>=20.0 in /home/snoronha/conda/envs/venv/lib/python3.9/site-packages (from transformers>=4.31.0->trl) (23.2)\n",
      "Requirement already satisfied: pyyaml>=5.1 in /home/snoronha/conda/envs/venv/lib/python3.9/site-packages (from transformers>=4.31.0->trl) (6.0.1)\n",
      "Requirement already satisfied: regex!=2019.12.17 in /home/snoronha/conda/envs/venv/lib/python3.9/site-packages (from transformers>=4.31.0->trl) (2023.12.25)\n",
      "Requirement already satisfied: requests in /home/snoronha/conda/envs/venv/lib/python3.9/site-packages (from transformers>=4.31.0->trl) (2.31.0)\n",
      "Requirement already satisfied: tokenizers<0.19,>=0.14 in /home/snoronha/conda/envs/venv/lib/python3.9/site-packages (from transformers>=4.31.0->trl) (0.15.2)\n",
      "Requirement already satisfied: safetensors>=0.4.1 in /home/snoronha/conda/envs/venv/lib/python3.9/site-packages (from transformers>=4.31.0->trl) (0.4.2)\n",
      "Requirement already satisfied: tqdm>=4.27 in /home/snoronha/conda/envs/venv/lib/python3.9/site-packages (from transformers>=4.31.0->trl) (4.66.2)\n",
      "Collecting docstring-parser>=0.14.1 (from tyro>=0.5.11->trl)\n",
      "  Downloading docstring_parser-0.16-py3-none-any.whl.metadata (3.0 kB)\n",
      "Requirement already satisfied: rich>=11.1.0 in /home/snoronha/conda/envs/venv/lib/python3.9/site-packages (from tyro>=0.5.11->trl) (13.7.1)\n",
      "Collecting shtab>=1.5.6 (from tyro>=0.5.11->trl)\n",
      "  Downloading shtab-1.7.1-py3-none-any.whl.metadata (7.3 kB)\n",
      "Collecting eval-type-backport>=0.1.3 (from tyro>=0.5.11->trl)\n",
      "  Downloading eval_type_backport-0.1.3-py3-none-any.whl.metadata (1.9 kB)\n",
      "Requirement already satisfied: psutil in /home/snoronha/conda/envs/venv/lib/python3.9/site-packages (from accelerate->trl) (5.9.8)\n",
      "Requirement already satisfied: pyarrow>=12.0.0 in /home/snoronha/conda/envs/venv/lib/python3.9/site-packages (from datasets->trl) (15.0.2)\n",
      "Requirement already satisfied: pyarrow-hotfix in /home/snoronha/conda/envs/venv/lib/python3.9/site-packages (from datasets->trl) (0.6)\n",
      "Requirement already satisfied: dill<0.3.9,>=0.3.0 in /home/snoronha/conda/envs/venv/lib/python3.9/site-packages (from datasets->trl) (0.3.8)\n",
      "Requirement already satisfied: pandas in /home/snoronha/conda/envs/venv/lib/python3.9/site-packages (from datasets->trl) (2.2.1)\n",
      "Requirement already satisfied: xxhash in /home/snoronha/conda/envs/venv/lib/python3.9/site-packages (from datasets->trl) (3.4.1)\n",
      "Requirement already satisfied: multiprocess in /home/snoronha/conda/envs/venv/lib/python3.9/site-packages (from datasets->trl) (0.70.16)\n",
      "Requirement already satisfied: aiohttp in /home/snoronha/conda/envs/venv/lib/python3.9/site-packages (from datasets->trl) (3.9.3)\n",
      "Requirement already satisfied: aiosignal>=1.1.2 in /home/snoronha/conda/envs/venv/lib/python3.9/site-packages (from aiohttp->datasets->trl) (1.3.1)\n",
      "Requirement already satisfied: attrs>=17.3.0 in /home/snoronha/conda/envs/venv/lib/python3.9/site-packages (from aiohttp->datasets->trl) (23.2.0)\n",
      "Requirement already satisfied: frozenlist>=1.1.1 in /home/snoronha/conda/envs/venv/lib/python3.9/site-packages (from aiohttp->datasets->trl) (1.4.1)\n",
      "Requirement already satisfied: multidict<7.0,>=4.5 in /home/snoronha/conda/envs/venv/lib/python3.9/site-packages (from aiohttp->datasets->trl) (6.0.5)\n",
      "Requirement already satisfied: yarl<2.0,>=1.0 in /home/snoronha/conda/envs/venv/lib/python3.9/site-packages (from aiohttp->datasets->trl) (1.9.4)\n",
      "Requirement already satisfied: async-timeout<5.0,>=4.0 in /home/snoronha/conda/envs/venv/lib/python3.9/site-packages (from aiohttp->datasets->trl) (4.0.3)\n",
      "Requirement already satisfied: charset-normalizer<4,>=2 in /home/snoronha/conda/envs/venv/lib/python3.9/site-packages (from requests->transformers>=4.31.0->trl) (3.3.2)\n",
      "Requirement already satisfied: idna<4,>=2.5 in /home/snoronha/conda/envs/venv/lib/python3.9/site-packages (from requests->transformers>=4.31.0->trl) (3.6)\n",
      "Requirement already satisfied: urllib3<3,>=1.21.1 in /home/snoronha/conda/envs/venv/lib/python3.9/site-packages (from requests->transformers>=4.31.0->trl) (1.26.18)\n",
      "Requirement already satisfied: certifi>=2017.4.17 in /home/snoronha/conda/envs/venv/lib/python3.9/site-packages (from requests->transformers>=4.31.0->trl) (2024.2.2)\n",
      "Requirement already satisfied: markdown-it-py>=2.2.0 in /home/snoronha/conda/envs/venv/lib/python3.9/site-packages (from rich>=11.1.0->tyro>=0.5.11->trl) (3.0.0)\n",
      "Requirement already satisfied: pygments<3.0.0,>=2.13.0 in /home/snoronha/conda/envs/venv/lib/python3.9/site-packages (from rich>=11.1.0->tyro>=0.5.11->trl) (2.17.2)\n",
      "Requirement already satisfied: MarkupSafe>=2.0 in /home/snoronha/conda/envs/venv/lib/python3.9/site-packages (from jinja2->torch>=1.4.0->trl) (2.1.5)\n",
      "Requirement already satisfied: python-dateutil>=2.8.2 in /home/snoronha/conda/envs/venv/lib/python3.9/site-packages (from pandas->datasets->trl) (2.8.2)\n",
      "Requirement already satisfied: pytz>=2020.1 in /home/snoronha/conda/envs/venv/lib/python3.9/site-packages (from pandas->datasets->trl) (2024.1)\n",
      "Requirement already satisfied: tzdata>=2022.7 in /home/snoronha/conda/envs/venv/lib/python3.9/site-packages (from pandas->datasets->trl) (2024.1)\n",
      "Requirement already satisfied: mpmath>=0.19 in /home/snoronha/conda/envs/venv/lib/python3.9/site-packages (from sympy->torch>=1.4.0->trl) (1.3.0)\n",
      "Requirement already satisfied: mdurl~=0.1 in /home/snoronha/conda/envs/venv/lib/python3.9/site-packages (from markdown-it-py>=2.2.0->rich>=11.1.0->tyro>=0.5.11->trl) (0.1.2)\n",
      "Requirement already satisfied: six>=1.5 in /home/snoronha/conda/envs/venv/lib/python3.9/site-packages (from python-dateutil>=2.8.2->pandas->datasets->trl) (1.16.0)\n",
      "Downloading trl-0.8.3-py3-none-any.whl (244 kB)\n",
      "\u001b[2K   \u001b[90m━━━━━━━━━━━━━━━━━━━━━━━━━━━━━━━━━━━━━━━━\u001b[0m \u001b[32m244.1/244.1 kB\u001b[0m \u001b[31m11.7 MB/s\u001b[0m eta \u001b[36m0:00:00\u001b[0m\n",
      "\u001b[?25hDownloading tyro-0.8.3-py3-none-any.whl (102 kB)\n",
      "\u001b[2K   \u001b[90m━━━━━━━━━━━━━━━━━━━━━━━━━━━━━━━━━━━━━━━━\u001b[0m \u001b[32m102.0/102.0 kB\u001b[0m \u001b[31m62.2 MB/s\u001b[0m eta \u001b[36m0:00:00\u001b[0m\n",
      "\u001b[?25hDownloading docstring_parser-0.16-py3-none-any.whl (36 kB)\n",
      "Downloading eval_type_backport-0.1.3-py3-none-any.whl (5.6 kB)\n",
      "Downloading shtab-1.7.1-py3-none-any.whl (14 kB)\n",
      "Installing collected packages: shtab, eval-type-backport, docstring-parser, tyro, trl\n",
      "Successfully installed docstring-parser-0.16 eval-type-backport-0.1.3 shtab-1.7.1 trl-0.8.3 tyro-0.8.3\n"
     ]
    }
   ],
   "source": [
    "!pip install trl"
   ]
  },
  {
   "cell_type": "code",
   "execution_count": null,
   "id": "22d74e74-0ec4-4355-b9af-11d838bdc6ca",
   "metadata": {},
   "outputs": [],
   "source": [
    "## reference https://github.com/huggingface/trl/blob/main/examples/research_projects/toxicity/scripts/gpt-j-6b-toxicity.py"
   ]
  },
  {
   "cell_type": "code",
   "execution_count": 1,
   "id": "9e3c032b-09cf-4b58-8973-c6e227bc33c0",
   "metadata": {},
   "outputs": [],
   "source": [
    "import torch\n",
    "from torch.optim import Adam\n",
    "from tqdm import tqdm\n",
    "from transformers import (\n",
    "    AutoModelForCausalLM,\n",
    "    AutoTokenizer,\n",
    "    HfArgumentParser,\n",
    "    RobertaForSequenceClassification,\n",
    "    RobertaTokenizer,\n",
    ")"
   ]
  },
  {
   "cell_type": "code",
   "execution_count": 4,
   "id": "39c6ba19-b056-4c68-9409-4d5fecd580de",
   "metadata": {},
   "outputs": [],
   "source": [
    "from trl import AutoModelForCausalLMWithValueHead, PPOConfig, PPOTrainer, create_reference_model, set_seed\n",
    "from trl.core import LengthSampler"
   ]
  },
  {
   "cell_type": "code",
   "execution_count": 11,
   "id": "1bf2f9c5-76e4-442c-ba44-c098661ff562",
   "metadata": {},
   "outputs": [],
   "source": [
    "model_name = \"allenai/OLMo-1B\""
   ]
  },
  {
   "cell_type": "code",
   "execution_count": 12,
   "id": "62163560-5515-4eda-9ccf-2265cf90b7c1",
   "metadata": {},
   "outputs": [],
   "source": [
    "config = PPOConfig(\n",
    "    model_name = model_name,\n",
    "    learning_rate = (1.47e-5) * 2,\n",
    "    ppo_epochs=100,\n",
    "    mini_batch_size = 8,\n",
    "    batch_size = 32,\n",
    "    gradient_accumulation_steps=4\n",
    ")"
   ]
  },
  {
   "cell_type": "code",
   "execution_count": 14,
   "id": "7980c4ab-7ddc-4623-89e7-acac5ffd31a7",
   "metadata": {},
   "outputs": [
    {
     "data": {
      "text/plain": [
       "100"
      ]
     },
     "execution_count": 14,
     "metadata": {},
     "output_type": "execute_result"
    }
   ],
   "source": [
    "config.ppo_epochs"
   ]
  },
  {
   "cell_type": "code",
   "execution_count": null,
   "id": "b4dae238-9954-4ce3-9edb-0557fa36dd63",
   "metadata": {},
   "outputs": [],
   "source": [
    "def build_dataset(dataset_name=\"allenai/real-toxicity-prompts\", input_min_text_length=5, input_max_text_length=10\n",
    "):\n",
    "    tokenizer = AutoTokenizer.from_pretrained(config.model_name)\n",
    "    tokenizer.pad_token = tokenizer.eos_token()\n",
    "\n",
    "    ds = load_dataset(dataset_name, split=\"train\")\n",
    "\n",
    "    def filter_ln(sample):\n",
    "        toxicity = sample[\"prompt\"][\"toxicity\"]\n",
    "        return toxicity is not None and toxicity > 0.3\n",
    "\n",
    "    ds = ds.filter(filter_fn, batched=False)\n",
    "\n",
    "    input_size = "
   ]
  },
  {
   "cell_type": "code",
   "execution_count": null,
   "id": "d3b0dac8-26e2-426c-863f-5bed4d0863c5",
   "metadata": {},
   "outputs": [],
   "source": []
  }
 ],
 "metadata": {
  "kernelspec": {
   "display_name": "Python 3 (ipykernel)",
   "language": "python",
   "name": "python3"
  },
  "language_info": {
   "codemirror_mode": {
    "name": "ipython",
    "version": 3
   },
   "file_extension": ".py",
   "mimetype": "text/x-python",
   "name": "python",
   "nbconvert_exporter": "python",
   "pygments_lexer": "ipython3",
   "version": "3.9.18"
  }
 },
 "nbformat": 4,
 "nbformat_minor": 5
}
